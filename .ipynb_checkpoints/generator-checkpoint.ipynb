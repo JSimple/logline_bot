{
 "cells": [
  {
   "cell_type": "code",
   "execution_count": 1,
   "id": "87011260",
   "metadata": {
    "scrolled": false
   },
   "outputs": [
    {
     "name": "stdout",
     "output_type": "stream",
     "text": [
      "Requirement already satisfied: import-ipynb in /Users/josephinesimple/opt/anaconda3/lib/python3.9/site-packages (0.1.3)\r\n"
     ]
    }
   ],
   "source": [
    "!pip install import-ipynb"
   ]
  },
  {
   "cell_type": "code",
   "execution_count": 2,
   "id": "49b99bf7",
   "metadata": {
    "collapsed": true
   },
   "outputs": [
    {
     "name": "stdout",
     "output_type": "stream",
     "text": [
      "Requirement already satisfied: spacy in /Users/josephinesimple/opt/anaconda3/lib/python3.9/site-packages (3.2.4)\n",
      "Requirement already satisfied: click<8.1.0 in /Users/josephinesimple/opt/anaconda3/lib/python3.9/site-packages (from spacy) (8.0.3)\n",
      "Requirement already satisfied: cymem<2.1.0,>=2.0.2 in /Users/josephinesimple/opt/anaconda3/lib/python3.9/site-packages (from spacy) (2.0.6)\n",
      "Requirement already satisfied: preshed<3.1.0,>=3.0.2 in /Users/josephinesimple/opt/anaconda3/lib/python3.9/site-packages (from spacy) (3.0.6)\n",
      "Requirement already satisfied: langcodes<4.0.0,>=3.2.0 in /Users/josephinesimple/opt/anaconda3/lib/python3.9/site-packages (from spacy) (3.3.0)\n",
      "Requirement already satisfied: tqdm<5.0.0,>=4.38.0 in /Users/josephinesimple/opt/anaconda3/lib/python3.9/site-packages (from spacy) (4.62.3)\n",
      "Requirement already satisfied: setuptools in /Users/josephinesimple/opt/anaconda3/lib/python3.9/site-packages (from spacy) (58.0.4)\n",
      "Requirement already satisfied: typer<0.5.0,>=0.3.0 in /Users/josephinesimple/opt/anaconda3/lib/python3.9/site-packages (from spacy) (0.4.1)\n",
      "Requirement already satisfied: wasabi<1.1.0,>=0.8.1 in /Users/josephinesimple/opt/anaconda3/lib/python3.9/site-packages (from spacy) (0.9.1)\n",
      "Requirement already satisfied: murmurhash<1.1.0,>=0.28.0 in /Users/josephinesimple/opt/anaconda3/lib/python3.9/site-packages (from spacy) (1.0.6)\n",
      "Requirement already satisfied: blis<0.8.0,>=0.4.0 in /Users/josephinesimple/opt/anaconda3/lib/python3.9/site-packages (from spacy) (0.7.7)\n",
      "Requirement already satisfied: requests<3.0.0,>=2.13.0 in /Users/josephinesimple/opt/anaconda3/lib/python3.9/site-packages (from spacy) (2.26.0)\n",
      "Requirement already satisfied: spacy-legacy<3.1.0,>=3.0.8 in /Users/josephinesimple/opt/anaconda3/lib/python3.9/site-packages (from spacy) (3.0.9)\n",
      "Requirement already satisfied: srsly<3.0.0,>=2.4.1 in /Users/josephinesimple/opt/anaconda3/lib/python3.9/site-packages (from spacy) (2.4.3)\n",
      "Requirement already satisfied: pathy>=0.3.5 in /Users/josephinesimple/opt/anaconda3/lib/python3.9/site-packages (from spacy) (0.6.1)\n",
      "Requirement already satisfied: jinja2 in /Users/josephinesimple/opt/anaconda3/lib/python3.9/site-packages (from spacy) (2.11.3)\n",
      "Requirement already satisfied: packaging>=20.0 in /Users/josephinesimple/opt/anaconda3/lib/python3.9/site-packages (from spacy) (21.0)\n",
      "Requirement already satisfied: pydantic!=1.8,!=1.8.1,<1.9.0,>=1.7.4 in /Users/josephinesimple/opt/anaconda3/lib/python3.9/site-packages (from spacy) (1.8.2)\n",
      "Requirement already satisfied: catalogue<2.1.0,>=2.0.6 in /Users/josephinesimple/opt/anaconda3/lib/python3.9/site-packages (from spacy) (2.0.7)\n",
      "Requirement already satisfied: thinc<8.1.0,>=8.0.12 in /Users/josephinesimple/opt/anaconda3/lib/python3.9/site-packages (from spacy) (8.0.15)\n",
      "Requirement already satisfied: spacy-loggers<2.0.0,>=1.0.0 in /Users/josephinesimple/opt/anaconda3/lib/python3.9/site-packages (from spacy) (1.0.2)\n",
      "Requirement already satisfied: numpy>=1.15.0 in /Users/josephinesimple/opt/anaconda3/lib/python3.9/site-packages (from spacy) (1.20.3)\n",
      "Requirement already satisfied: pyparsing>=2.0.2 in /Users/josephinesimple/opt/anaconda3/lib/python3.9/site-packages (from packaging>=20.0->spacy) (3.0.4)\n",
      "Requirement already satisfied: smart-open<6.0.0,>=5.0.0 in /Users/josephinesimple/opt/anaconda3/lib/python3.9/site-packages (from pathy>=0.3.5->spacy) (5.2.1)\n",
      "Requirement already satisfied: typing-extensions>=3.7.4.3 in /Users/josephinesimple/opt/anaconda3/lib/python3.9/site-packages (from pydantic!=1.8,!=1.8.1,<1.9.0,>=1.7.4->spacy) (3.10.0.2)\n",
      "Requirement already satisfied: idna<4,>=2.5 in /Users/josephinesimple/opt/anaconda3/lib/python3.9/site-packages (from requests<3.0.0,>=2.13.0->spacy) (3.2)\n",
      "Requirement already satisfied: charset-normalizer~=2.0.0 in /Users/josephinesimple/opt/anaconda3/lib/python3.9/site-packages (from requests<3.0.0,>=2.13.0->spacy) (2.0.4)\n",
      "Requirement already satisfied: urllib3<1.27,>=1.21.1 in /Users/josephinesimple/opt/anaconda3/lib/python3.9/site-packages (from requests<3.0.0,>=2.13.0->spacy) (1.26.7)\n",
      "Requirement already satisfied: certifi>=2017.4.17 in /Users/josephinesimple/opt/anaconda3/lib/python3.9/site-packages (from requests<3.0.0,>=2.13.0->spacy) (2021.10.8)\n",
      "Requirement already satisfied: MarkupSafe>=0.23 in /Users/josephinesimple/opt/anaconda3/lib/python3.9/site-packages (from jinja2->spacy) (1.1.1)\n"
     ]
    }
   ],
   "source": [
    "!pip install spacy"
   ]
  },
  {
   "cell_type": "code",
   "execution_count": 3,
   "id": "5829595d",
   "metadata": {
    "collapsed": true
   },
   "outputs": [
    {
     "name": "stdout",
     "output_type": "stream",
     "text": [
      "Requirement already satisfied: textacy in /Users/josephinesimple/opt/anaconda3/lib/python3.9/site-packages (0.12.0)\n",
      "Requirement already satisfied: cytoolz>=0.10.1 in /Users/josephinesimple/opt/anaconda3/lib/python3.9/site-packages (from textacy) (0.11.0)\n",
      "Requirement already satisfied: numpy>=1.17.0 in /Users/josephinesimple/opt/anaconda3/lib/python3.9/site-packages (from textacy) (1.20.3)\n",
      "Requirement already satisfied: requests>=2.10.0 in /Users/josephinesimple/opt/anaconda3/lib/python3.9/site-packages (from textacy) (2.26.0)\n",
      "Requirement already satisfied: jellyfish>=0.8.0 in /Users/josephinesimple/opt/anaconda3/lib/python3.9/site-packages (from textacy) (0.9.0)\n",
      "Requirement already satisfied: scipy>=0.17.0 in /Users/josephinesimple/opt/anaconda3/lib/python3.9/site-packages (from textacy) (1.7.1)\n",
      "Requirement already satisfied: catalogue~=2.0 in /Users/josephinesimple/opt/anaconda3/lib/python3.9/site-packages (from textacy) (2.0.7)\n",
      "Requirement already satisfied: spacy>=3.0.0 in /Users/josephinesimple/opt/anaconda3/lib/python3.9/site-packages (from textacy) (3.2.4)\n",
      "Requirement already satisfied: joblib>=0.13.0 in /Users/josephinesimple/opt/anaconda3/lib/python3.9/site-packages (from textacy) (1.1.0)\n",
      "Requirement already satisfied: cachetools>=4.0.0 in /Users/josephinesimple/opt/anaconda3/lib/python3.9/site-packages (from textacy) (5.0.0)\n",
      "Requirement already satisfied: tqdm>=4.19.6 in /Users/josephinesimple/opt/anaconda3/lib/python3.9/site-packages (from textacy) (4.62.3)\n",
      "Requirement already satisfied: scikit-learn>=0.19.0 in /Users/josephinesimple/opt/anaconda3/lib/python3.9/site-packages (from textacy) (0.24.2)\n",
      "Requirement already satisfied: networkx>=2.0 in /Users/josephinesimple/opt/anaconda3/lib/python3.9/site-packages (from textacy) (2.6.3)\n",
      "Requirement already satisfied: pyphen>=0.10.0 in /Users/josephinesimple/opt/anaconda3/lib/python3.9/site-packages (from textacy) (0.12.0)\n",
      "Requirement already satisfied: toolz>=0.8.0 in /Users/josephinesimple/opt/anaconda3/lib/python3.9/site-packages (from cytoolz>=0.10.1->textacy) (0.11.1)\n",
      "Requirement already satisfied: urllib3<1.27,>=1.21.1 in /Users/josephinesimple/opt/anaconda3/lib/python3.9/site-packages (from requests>=2.10.0->textacy) (1.26.7)\n",
      "Requirement already satisfied: idna<4,>=2.5 in /Users/josephinesimple/opt/anaconda3/lib/python3.9/site-packages (from requests>=2.10.0->textacy) (3.2)\n",
      "Requirement already satisfied: charset-normalizer~=2.0.0 in /Users/josephinesimple/opt/anaconda3/lib/python3.9/site-packages (from requests>=2.10.0->textacy) (2.0.4)\n",
      "Requirement already satisfied: certifi>=2017.4.17 in /Users/josephinesimple/opt/anaconda3/lib/python3.9/site-packages (from requests>=2.10.0->textacy) (2021.10.8)\n",
      "Requirement already satisfied: threadpoolctl>=2.0.0 in /Users/josephinesimple/opt/anaconda3/lib/python3.9/site-packages (from scikit-learn>=0.19.0->textacy) (2.2.0)\n",
      "Requirement already satisfied: typer<0.5.0,>=0.3.0 in /Users/josephinesimple/opt/anaconda3/lib/python3.9/site-packages (from spacy>=3.0.0->textacy) (0.4.1)\n",
      "Requirement already satisfied: preshed<3.1.0,>=3.0.2 in /Users/josephinesimple/opt/anaconda3/lib/python3.9/site-packages (from spacy>=3.0.0->textacy) (3.0.6)\n",
      "Requirement already satisfied: murmurhash<1.1.0,>=0.28.0 in /Users/josephinesimple/opt/anaconda3/lib/python3.9/site-packages (from spacy>=3.0.0->textacy) (1.0.6)\n",
      "Requirement already satisfied: blis<0.8.0,>=0.4.0 in /Users/josephinesimple/opt/anaconda3/lib/python3.9/site-packages (from spacy>=3.0.0->textacy) (0.7.7)\n",
      "Requirement already satisfied: click<8.1.0 in /Users/josephinesimple/opt/anaconda3/lib/python3.9/site-packages (from spacy>=3.0.0->textacy) (8.0.3)\n",
      "Requirement already satisfied: pydantic!=1.8,!=1.8.1,<1.9.0,>=1.7.4 in /Users/josephinesimple/opt/anaconda3/lib/python3.9/site-packages (from spacy>=3.0.0->textacy) (1.8.2)\n",
      "Requirement already satisfied: setuptools in /Users/josephinesimple/opt/anaconda3/lib/python3.9/site-packages (from spacy>=3.0.0->textacy) (58.0.4)\n",
      "Requirement already satisfied: srsly<3.0.0,>=2.4.1 in /Users/josephinesimple/opt/anaconda3/lib/python3.9/site-packages (from spacy>=3.0.0->textacy) (2.4.3)\n",
      "Requirement already satisfied: jinja2 in /Users/josephinesimple/opt/anaconda3/lib/python3.9/site-packages (from spacy>=3.0.0->textacy) (2.11.3)\n",
      "Requirement already satisfied: wasabi<1.1.0,>=0.8.1 in /Users/josephinesimple/opt/anaconda3/lib/python3.9/site-packages (from spacy>=3.0.0->textacy) (0.9.1)\n",
      "Requirement already satisfied: cymem<2.1.0,>=2.0.2 in /Users/josephinesimple/opt/anaconda3/lib/python3.9/site-packages (from spacy>=3.0.0->textacy) (2.0.6)\n",
      "Requirement already satisfied: pathy>=0.3.5 in /Users/josephinesimple/opt/anaconda3/lib/python3.9/site-packages (from spacy>=3.0.0->textacy) (0.6.1)\n",
      "Requirement already satisfied: thinc<8.1.0,>=8.0.12 in /Users/josephinesimple/opt/anaconda3/lib/python3.9/site-packages (from spacy>=3.0.0->textacy) (8.0.15)\n",
      "Requirement already satisfied: spacy-loggers<2.0.0,>=1.0.0 in /Users/josephinesimple/opt/anaconda3/lib/python3.9/site-packages (from spacy>=3.0.0->textacy) (1.0.2)\n",
      "Requirement already satisfied: langcodes<4.0.0,>=3.2.0 in /Users/josephinesimple/opt/anaconda3/lib/python3.9/site-packages (from spacy>=3.0.0->textacy) (3.3.0)\n",
      "Requirement already satisfied: spacy-legacy<3.1.0,>=3.0.8 in /Users/josephinesimple/opt/anaconda3/lib/python3.9/site-packages (from spacy>=3.0.0->textacy) (3.0.9)\n",
      "Requirement already satisfied: packaging>=20.0 in /Users/josephinesimple/opt/anaconda3/lib/python3.9/site-packages (from spacy>=3.0.0->textacy) (21.0)\n",
      "Requirement already satisfied: pyparsing>=2.0.2 in /Users/josephinesimple/opt/anaconda3/lib/python3.9/site-packages (from packaging>=20.0->spacy>=3.0.0->textacy) (3.0.4)\n",
      "Requirement already satisfied: smart-open<6.0.0,>=5.0.0 in /Users/josephinesimple/opt/anaconda3/lib/python3.9/site-packages (from pathy>=0.3.5->spacy>=3.0.0->textacy) (5.2.1)\n",
      "Requirement already satisfied: typing-extensions>=3.7.4.3 in /Users/josephinesimple/opt/anaconda3/lib/python3.9/site-packages (from pydantic!=1.8,!=1.8.1,<1.9.0,>=1.7.4->spacy>=3.0.0->textacy) (3.10.0.2)\n",
      "Requirement already satisfied: MarkupSafe>=0.23 in /Users/josephinesimple/opt/anaconda3/lib/python3.9/site-packages (from jinja2->spacy>=3.0.0->textacy) (1.1.1)\n"
     ]
    }
   ],
   "source": [
    "!pip install textacy"
   ]
  },
  {
   "cell_type": "code",
   "execution_count": 4,
   "id": "b0fbc68c",
   "metadata": {},
   "outputs": [],
   "source": [
    "import spacy, textacy, re"
   ]
  },
  {
   "cell_type": "code",
   "execution_count": 5,
   "id": "1d595dba",
   "metadata": {},
   "outputs": [],
   "source": [
    "from textacy import extract"
   ]
  },
  {
   "cell_type": "code",
   "execution_count": 6,
   "id": "13dd68dd",
   "metadata": {},
   "outputs": [],
   "source": [
    "import import_ipynb, random"
   ]
  },
  {
   "cell_type": "code",
   "execution_count": 7,
   "id": "392f08c6",
   "metadata": {
    "collapsed": true
   },
   "outputs": [
    {
     "name": "stdout",
     "output_type": "stream",
     "text": [
      "importing Jupyter notebook from parts_of_speech.ipynb\n",
      "Requirement already satisfied: spacy in /Users/josephinesimple/opt/anaconda3/lib/python3.9/site-packages (3.2.4)\n",
      "Requirement already satisfied: cymem<2.1.0,>=2.0.2 in /Users/josephinesimple/opt/anaconda3/lib/python3.9/site-packages (from spacy) (2.0.6)\n",
      "Requirement already satisfied: murmurhash<1.1.0,>=0.28.0 in /Users/josephinesimple/opt/anaconda3/lib/python3.9/site-packages (from spacy) (1.0.6)\n",
      "Requirement already satisfied: wasabi<1.1.0,>=0.8.1 in /Users/josephinesimple/opt/anaconda3/lib/python3.9/site-packages (from spacy) (0.9.1)\n",
      "Requirement already satisfied: srsly<3.0.0,>=2.4.1 in /Users/josephinesimple/opt/anaconda3/lib/python3.9/site-packages (from spacy) (2.4.3)\n",
      "Requirement already satisfied: packaging>=20.0 in /Users/josephinesimple/opt/anaconda3/lib/python3.9/site-packages (from spacy) (21.0)\n",
      "Requirement already satisfied: preshed<3.1.0,>=3.0.2 in /Users/josephinesimple/opt/anaconda3/lib/python3.9/site-packages (from spacy) (3.0.6)\n",
      "Requirement already satisfied: click<8.1.0 in /Users/josephinesimple/opt/anaconda3/lib/python3.9/site-packages (from spacy) (8.0.3)\n",
      "Requirement already satisfied: spacy-legacy<3.1.0,>=3.0.8 in /Users/josephinesimple/opt/anaconda3/lib/python3.9/site-packages (from spacy) (3.0.9)\n",
      "Requirement already satisfied: spacy-loggers<2.0.0,>=1.0.0 in /Users/josephinesimple/opt/anaconda3/lib/python3.9/site-packages (from spacy) (1.0.2)\n",
      "Requirement already satisfied: numpy>=1.15.0 in /Users/josephinesimple/opt/anaconda3/lib/python3.9/site-packages (from spacy) (1.20.3)\n",
      "Requirement already satisfied: requests<3.0.0,>=2.13.0 in /Users/josephinesimple/opt/anaconda3/lib/python3.9/site-packages (from spacy) (2.26.0)\n",
      "Requirement already satisfied: pydantic!=1.8,!=1.8.1,<1.9.0,>=1.7.4 in /Users/josephinesimple/opt/anaconda3/lib/python3.9/site-packages (from spacy) (1.8.2)\n",
      "Requirement already satisfied: tqdm<5.0.0,>=4.38.0 in /Users/josephinesimple/opt/anaconda3/lib/python3.9/site-packages (from spacy) (4.62.3)\n",
      "Requirement already satisfied: typer<0.5.0,>=0.3.0 in /Users/josephinesimple/opt/anaconda3/lib/python3.9/site-packages (from spacy) (0.4.1)\n",
      "Requirement already satisfied: blis<0.8.0,>=0.4.0 in /Users/josephinesimple/opt/anaconda3/lib/python3.9/site-packages (from spacy) (0.7.7)\n",
      "Requirement already satisfied: jinja2 in /Users/josephinesimple/opt/anaconda3/lib/python3.9/site-packages (from spacy) (2.11.3)\n",
      "Requirement already satisfied: thinc<8.1.0,>=8.0.12 in /Users/josephinesimple/opt/anaconda3/lib/python3.9/site-packages (from spacy) (8.0.15)\n",
      "Requirement already satisfied: langcodes<4.0.0,>=3.2.0 in /Users/josephinesimple/opt/anaconda3/lib/python3.9/site-packages (from spacy) (3.3.0)\n",
      "Requirement already satisfied: catalogue<2.1.0,>=2.0.6 in /Users/josephinesimple/opt/anaconda3/lib/python3.9/site-packages (from spacy) (2.0.7)\n",
      "Requirement already satisfied: pathy>=0.3.5 in /Users/josephinesimple/opt/anaconda3/lib/python3.9/site-packages (from spacy) (0.6.1)\n",
      "Requirement already satisfied: setuptools in /Users/josephinesimple/opt/anaconda3/lib/python3.9/site-packages (from spacy) (58.0.4)\n",
      "Requirement already satisfied: pyparsing>=2.0.2 in /Users/josephinesimple/opt/anaconda3/lib/python3.9/site-packages (from packaging>=20.0->spacy) (3.0.4)\n",
      "Requirement already satisfied: smart-open<6.0.0,>=5.0.0 in /Users/josephinesimple/opt/anaconda3/lib/python3.9/site-packages (from pathy>=0.3.5->spacy) (5.2.1)\n",
      "Requirement already satisfied: typing-extensions>=3.7.4.3 in /Users/josephinesimple/opt/anaconda3/lib/python3.9/site-packages (from pydantic!=1.8,!=1.8.1,<1.9.0,>=1.7.4->spacy) (3.10.0.2)\n",
      "Requirement already satisfied: idna<4,>=2.5 in /Users/josephinesimple/opt/anaconda3/lib/python3.9/site-packages (from requests<3.0.0,>=2.13.0->spacy) (3.2)\n",
      "Requirement already satisfied: urllib3<1.27,>=1.21.1 in /Users/josephinesimple/opt/anaconda3/lib/python3.9/site-packages (from requests<3.0.0,>=2.13.0->spacy) (1.26.7)\n",
      "Requirement already satisfied: charset-normalizer~=2.0.0 in /Users/josephinesimple/opt/anaconda3/lib/python3.9/site-packages (from requests<3.0.0,>=2.13.0->spacy) (2.0.4)\n",
      "Requirement already satisfied: certifi>=2017.4.17 in /Users/josephinesimple/opt/anaconda3/lib/python3.9/site-packages (from requests<3.0.0,>=2.13.0->spacy) (2021.10.8)\n",
      "Requirement already satisfied: MarkupSafe>=0.23 in /Users/josephinesimple/opt/anaconda3/lib/python3.9/site-packages (from jinja2->spacy) (1.1.1)\n",
      "Requirement already satisfied: textacy in /Users/josephinesimple/opt/anaconda3/lib/python3.9/site-packages (0.12.0)\n",
      "Requirement already satisfied: scipy>=0.17.0 in /Users/josephinesimple/opt/anaconda3/lib/python3.9/site-packages (from textacy) (1.7.1)\n",
      "Requirement already satisfied: pyphen>=0.10.0 in /Users/josephinesimple/opt/anaconda3/lib/python3.9/site-packages (from textacy) (0.12.0)\n",
      "Requirement already satisfied: cytoolz>=0.10.1 in /Users/josephinesimple/opt/anaconda3/lib/python3.9/site-packages (from textacy) (0.11.0)\n",
      "Requirement already satisfied: jellyfish>=0.8.0 in /Users/josephinesimple/opt/anaconda3/lib/python3.9/site-packages (from textacy) (0.9.0)\n",
      "Requirement already satisfied: cachetools>=4.0.0 in /Users/josephinesimple/opt/anaconda3/lib/python3.9/site-packages (from textacy) (5.0.0)\n",
      "Requirement already satisfied: joblib>=0.13.0 in /Users/josephinesimple/opt/anaconda3/lib/python3.9/site-packages (from textacy) (1.1.0)\n",
      "Requirement already satisfied: scikit-learn>=0.19.0 in /Users/josephinesimple/opt/anaconda3/lib/python3.9/site-packages (from textacy) (0.24.2)\n",
      "Requirement already satisfied: numpy>=1.17.0 in /Users/josephinesimple/opt/anaconda3/lib/python3.9/site-packages (from textacy) (1.20.3)\n",
      "Requirement already satisfied: tqdm>=4.19.6 in /Users/josephinesimple/opt/anaconda3/lib/python3.9/site-packages (from textacy) (4.62.3)\n",
      "Requirement already satisfied: networkx>=2.0 in /Users/josephinesimple/opt/anaconda3/lib/python3.9/site-packages (from textacy) (2.6.3)\n",
      "Requirement already satisfied: catalogue~=2.0 in /Users/josephinesimple/opt/anaconda3/lib/python3.9/site-packages (from textacy) (2.0.7)\n",
      "Requirement already satisfied: requests>=2.10.0 in /Users/josephinesimple/opt/anaconda3/lib/python3.9/site-packages (from textacy) (2.26.0)\n",
      "Requirement already satisfied: spacy>=3.0.0 in /Users/josephinesimple/opt/anaconda3/lib/python3.9/site-packages (from textacy) (3.2.4)\n",
      "Requirement already satisfied: toolz>=0.8.0 in /Users/josephinesimple/opt/anaconda3/lib/python3.9/site-packages (from cytoolz>=0.10.1->textacy) (0.11.1)\n",
      "Requirement already satisfied: charset-normalizer~=2.0.0 in /Users/josephinesimple/opt/anaconda3/lib/python3.9/site-packages (from requests>=2.10.0->textacy) (2.0.4)\n",
      "Requirement already satisfied: idna<4,>=2.5 in /Users/josephinesimple/opt/anaconda3/lib/python3.9/site-packages (from requests>=2.10.0->textacy) (3.2)\n",
      "Requirement already satisfied: certifi>=2017.4.17 in /Users/josephinesimple/opt/anaconda3/lib/python3.9/site-packages (from requests>=2.10.0->textacy) (2021.10.8)\n",
      "Requirement already satisfied: urllib3<1.27,>=1.21.1 in /Users/josephinesimple/opt/anaconda3/lib/python3.9/site-packages (from requests>=2.10.0->textacy) (1.26.7)\n",
      "Requirement already satisfied: threadpoolctl>=2.0.0 in /Users/josephinesimple/opt/anaconda3/lib/python3.9/site-packages (from scikit-learn>=0.19.0->textacy) (2.2.0)\n",
      "Requirement already satisfied: murmurhash<1.1.0,>=0.28.0 in /Users/josephinesimple/opt/anaconda3/lib/python3.9/site-packages (from spacy>=3.0.0->textacy) (1.0.6)\n",
      "Requirement already satisfied: jinja2 in /Users/josephinesimple/opt/anaconda3/lib/python3.9/site-packages (from spacy>=3.0.0->textacy) (2.11.3)\n",
      "Requirement already satisfied: pathy>=0.3.5 in /Users/josephinesimple/opt/anaconda3/lib/python3.9/site-packages (from spacy>=3.0.0->textacy) (0.6.1)\n",
      "Requirement already satisfied: thinc<8.1.0,>=8.0.12 in /Users/josephinesimple/opt/anaconda3/lib/python3.9/site-packages (from spacy>=3.0.0->textacy) (8.0.15)\n",
      "Requirement already satisfied: typer<0.5.0,>=0.3.0 in /Users/josephinesimple/opt/anaconda3/lib/python3.9/site-packages (from spacy>=3.0.0->textacy) (0.4.1)\n",
      "Requirement already satisfied: srsly<3.0.0,>=2.4.1 in /Users/josephinesimple/opt/anaconda3/lib/python3.9/site-packages (from spacy>=3.0.0->textacy) (2.4.3)\n",
      "Requirement already satisfied: pydantic!=1.8,!=1.8.1,<1.9.0,>=1.7.4 in /Users/josephinesimple/opt/anaconda3/lib/python3.9/site-packages (from spacy>=3.0.0->textacy) (1.8.2)\n",
      "Requirement already satisfied: spacy-legacy<3.1.0,>=3.0.8 in /Users/josephinesimple/opt/anaconda3/lib/python3.9/site-packages (from spacy>=3.0.0->textacy) (3.0.9)\n",
      "Requirement already satisfied: cymem<2.1.0,>=2.0.2 in /Users/josephinesimple/opt/anaconda3/lib/python3.9/site-packages (from spacy>=3.0.0->textacy) (2.0.6)\n",
      "Requirement already satisfied: click<8.1.0 in /Users/josephinesimple/opt/anaconda3/lib/python3.9/site-packages (from spacy>=3.0.0->textacy) (8.0.3)\n",
      "Requirement already satisfied: wasabi<1.1.0,>=0.8.1 in /Users/josephinesimple/opt/anaconda3/lib/python3.9/site-packages (from spacy>=3.0.0->textacy) (0.9.1)\n",
      "Requirement already satisfied: packaging>=20.0 in /Users/josephinesimple/opt/anaconda3/lib/python3.9/site-packages (from spacy>=3.0.0->textacy) (21.0)\n",
      "Requirement already satisfied: langcodes<4.0.0,>=3.2.0 in /Users/josephinesimple/opt/anaconda3/lib/python3.9/site-packages (from spacy>=3.0.0->textacy) (3.3.0)\n",
      "Requirement already satisfied: blis<0.8.0,>=0.4.0 in /Users/josephinesimple/opt/anaconda3/lib/python3.9/site-packages (from spacy>=3.0.0->textacy) (0.7.7)\n",
      "Requirement already satisfied: preshed<3.1.0,>=3.0.2 in /Users/josephinesimple/opt/anaconda3/lib/python3.9/site-packages (from spacy>=3.0.0->textacy) (3.0.6)\n",
      "Requirement already satisfied: setuptools in /Users/josephinesimple/opt/anaconda3/lib/python3.9/site-packages (from spacy>=3.0.0->textacy) (58.0.4)\n",
      "Requirement already satisfied: spacy-loggers<2.0.0,>=1.0.0 in /Users/josephinesimple/opt/anaconda3/lib/python3.9/site-packages (from spacy>=3.0.0->textacy) (1.0.2)\n",
      "Requirement already satisfied: pyparsing>=2.0.2 in /Users/josephinesimple/opt/anaconda3/lib/python3.9/site-packages (from packaging>=20.0->spacy>=3.0.0->textacy) (3.0.4)\n"
     ]
    },
    {
     "name": "stdout",
     "output_type": "stream",
     "text": [
      "Requirement already satisfied: smart-open<6.0.0,>=5.0.0 in /Users/josephinesimple/opt/anaconda3/lib/python3.9/site-packages (from pathy>=0.3.5->spacy>=3.0.0->textacy) (5.2.1)\n",
      "Requirement already satisfied: typing-extensions>=3.7.4.3 in /Users/josephinesimple/opt/anaconda3/lib/python3.9/site-packages (from pydantic!=1.8,!=1.8.1,<1.9.0,>=1.7.4->spacy>=3.0.0->textacy) (3.10.0.2)\n",
      "Requirement already satisfied: MarkupSafe>=0.23 in /Users/josephinesimple/opt/anaconda3/lib/python3.9/site-packages (from jinja2->spacy>=3.0.0->textacy) (1.1.1)\n",
      "Collecting en-core-web-sm==3.2.0\n",
      "  Downloading https://github.com/explosion/spacy-models/releases/download/en_core_web_sm-3.2.0/en_core_web_sm-3.2.0-py3-none-any.whl (13.9 MB)\n",
      "\u001b[K     |████████████████████████████████| 13.9 MB 9.8 MB/s eta 0:00:01\n",
      "\u001b[?25hRequirement already satisfied: spacy<3.3.0,>=3.2.0 in /Users/josephinesimple/opt/anaconda3/lib/python3.9/site-packages (from en-core-web-sm==3.2.0) (3.2.4)\n",
      "Requirement already satisfied: langcodes<4.0.0,>=3.2.0 in /Users/josephinesimple/opt/anaconda3/lib/python3.9/site-packages (from spacy<3.3.0,>=3.2.0->en-core-web-sm==3.2.0) (3.3.0)\n",
      "Requirement already satisfied: requests<3.0.0,>=2.13.0 in /Users/josephinesimple/opt/anaconda3/lib/python3.9/site-packages (from spacy<3.3.0,>=3.2.0->en-core-web-sm==3.2.0) (2.26.0)\n",
      "Requirement already satisfied: packaging>=20.0 in /Users/josephinesimple/opt/anaconda3/lib/python3.9/site-packages (from spacy<3.3.0,>=3.2.0->en-core-web-sm==3.2.0) (21.0)\n",
      "Requirement already satisfied: blis<0.8.0,>=0.4.0 in /Users/josephinesimple/opt/anaconda3/lib/python3.9/site-packages (from spacy<3.3.0,>=3.2.0->en-core-web-sm==3.2.0) (0.7.7)\n",
      "Requirement already satisfied: catalogue<2.1.0,>=2.0.6 in /Users/josephinesimple/opt/anaconda3/lib/python3.9/site-packages (from spacy<3.3.0,>=3.2.0->en-core-web-sm==3.2.0) (2.0.7)\n",
      "Requirement already satisfied: cymem<2.1.0,>=2.0.2 in /Users/josephinesimple/opt/anaconda3/lib/python3.9/site-packages (from spacy<3.3.0,>=3.2.0->en-core-web-sm==3.2.0) (2.0.6)\n",
      "Requirement already satisfied: preshed<3.1.0,>=3.0.2 in /Users/josephinesimple/opt/anaconda3/lib/python3.9/site-packages (from spacy<3.3.0,>=3.2.0->en-core-web-sm==3.2.0) (3.0.6)\n",
      "Requirement already satisfied: srsly<3.0.0,>=2.4.1 in /Users/josephinesimple/opt/anaconda3/lib/python3.9/site-packages (from spacy<3.3.0,>=3.2.0->en-core-web-sm==3.2.0) (2.4.3)\n",
      "Requirement already satisfied: spacy-loggers<2.0.0,>=1.0.0 in /Users/josephinesimple/opt/anaconda3/lib/python3.9/site-packages (from spacy<3.3.0,>=3.2.0->en-core-web-sm==3.2.0) (1.0.2)\n",
      "Requirement already satisfied: murmurhash<1.1.0,>=0.28.0 in /Users/josephinesimple/opt/anaconda3/lib/python3.9/site-packages (from spacy<3.3.0,>=3.2.0->en-core-web-sm==3.2.0) (1.0.6)\n",
      "Requirement already satisfied: typer<0.5.0,>=0.3.0 in /Users/josephinesimple/opt/anaconda3/lib/python3.9/site-packages (from spacy<3.3.0,>=3.2.0->en-core-web-sm==3.2.0) (0.4.1)\n",
      "Requirement already satisfied: wasabi<1.1.0,>=0.8.1 in /Users/josephinesimple/opt/anaconda3/lib/python3.9/site-packages (from spacy<3.3.0,>=3.2.0->en-core-web-sm==3.2.0) (0.9.1)\n",
      "Requirement already satisfied: spacy-legacy<3.1.0,>=3.0.8 in /Users/josephinesimple/opt/anaconda3/lib/python3.9/site-packages (from spacy<3.3.0,>=3.2.0->en-core-web-sm==3.2.0) (3.0.9)\n",
      "Requirement already satisfied: tqdm<5.0.0,>=4.38.0 in /Users/josephinesimple/opt/anaconda3/lib/python3.9/site-packages (from spacy<3.3.0,>=3.2.0->en-core-web-sm==3.2.0) (4.62.3)\n",
      "Requirement already satisfied: click<8.1.0 in /Users/josephinesimple/opt/anaconda3/lib/python3.9/site-packages (from spacy<3.3.0,>=3.2.0->en-core-web-sm==3.2.0) (8.0.3)\n",
      "Requirement already satisfied: pydantic!=1.8,!=1.8.1,<1.9.0,>=1.7.4 in /Users/josephinesimple/opt/anaconda3/lib/python3.9/site-packages (from spacy<3.3.0,>=3.2.0->en-core-web-sm==3.2.0) (1.8.2)\n",
      "Requirement already satisfied: pathy>=0.3.5 in /Users/josephinesimple/opt/anaconda3/lib/python3.9/site-packages (from spacy<3.3.0,>=3.2.0->en-core-web-sm==3.2.0) (0.6.1)\n",
      "Requirement already satisfied: jinja2 in /Users/josephinesimple/opt/anaconda3/lib/python3.9/site-packages (from spacy<3.3.0,>=3.2.0->en-core-web-sm==3.2.0) (2.11.3)\n",
      "Requirement already satisfied: thinc<8.1.0,>=8.0.12 in /Users/josephinesimple/opt/anaconda3/lib/python3.9/site-packages (from spacy<3.3.0,>=3.2.0->en-core-web-sm==3.2.0) (8.0.15)\n",
      "Requirement already satisfied: setuptools in /Users/josephinesimple/opt/anaconda3/lib/python3.9/site-packages (from spacy<3.3.0,>=3.2.0->en-core-web-sm==3.2.0) (58.0.4)\n",
      "Requirement already satisfied: numpy>=1.15.0 in /Users/josephinesimple/opt/anaconda3/lib/python3.9/site-packages (from spacy<3.3.0,>=3.2.0->en-core-web-sm==3.2.0) (1.20.3)\n",
      "Requirement already satisfied: pyparsing>=2.0.2 in /Users/josephinesimple/opt/anaconda3/lib/python3.9/site-packages (from packaging>=20.0->spacy<3.3.0,>=3.2.0->en-core-web-sm==3.2.0) (3.0.4)\n",
      "Requirement already satisfied: smart-open<6.0.0,>=5.0.0 in /Users/josephinesimple/opt/anaconda3/lib/python3.9/site-packages (from pathy>=0.3.5->spacy<3.3.0,>=3.2.0->en-core-web-sm==3.2.0) (5.2.1)\n",
      "Requirement already satisfied: typing-extensions>=3.7.4.3 in /Users/josephinesimple/opt/anaconda3/lib/python3.9/site-packages (from pydantic!=1.8,!=1.8.1,<1.9.0,>=1.7.4->spacy<3.3.0,>=3.2.0->en-core-web-sm==3.2.0) (3.10.0.2)\n",
      "Requirement already satisfied: urllib3<1.27,>=1.21.1 in /Users/josephinesimple/opt/anaconda3/lib/python3.9/site-packages (from requests<3.0.0,>=2.13.0->spacy<3.3.0,>=3.2.0->en-core-web-sm==3.2.0) (1.26.7)\n",
      "Requirement already satisfied: idna<4,>=2.5 in /Users/josephinesimple/opt/anaconda3/lib/python3.9/site-packages (from requests<3.0.0,>=2.13.0->spacy<3.3.0,>=3.2.0->en-core-web-sm==3.2.0) (3.2)\n",
      "Requirement already satisfied: certifi>=2017.4.17 in /Users/josephinesimple/opt/anaconda3/lib/python3.9/site-packages (from requests<3.0.0,>=2.13.0->spacy<3.3.0,>=3.2.0->en-core-web-sm==3.2.0) (2021.10.8)\n",
      "Requirement already satisfied: charset-normalizer~=2.0.0 in /Users/josephinesimple/opt/anaconda3/lib/python3.9/site-packages (from requests<3.0.0,>=2.13.0->spacy<3.3.0,>=3.2.0->en-core-web-sm==3.2.0) (2.0.4)\n",
      "Requirement already satisfied: MarkupSafe>=0.23 in /Users/josephinesimple/opt/anaconda3/lib/python3.9/site-packages (from jinja2->spacy<3.3.0,>=3.2.0->en-core-web-sm==3.2.0) (1.1.1)\n",
      "\u001b[38;5;2m✔ Download and installation successful\u001b[0m\n",
      "You can now load the package via spacy.load('en_core_web_sm')\n",
      "[an ancient enemy, A high school chemistry teacher, a young boy, a police chief, the personal and professional lives, A modern update, the famous sleuth, the hit SHOWTIME Original Series, A father recounts, the personal and professional secrets, a plane crash, a seemingly deserted tropical island, a political conspiracy, an innocent man, the same prison, \n",
      "An anthology series, a twisted, high-tech multiverse, the brutal and mysterious world, a Viking warrior, the distant shores, A gangster family epic, the near future, the reimagined past, An animated series, a super scientist, a solitary monster hunter, An unusual group, the most perfect robbery, the Royal Mint, An antisocial maverick doctor, a changed man, a hooded vigilante, a lone bounty hunter, the outer reaches, the New Republic, A blind lawyer, a strange invitation, a tempting prize, A survival game, a whopping 45.6 billion-won prize, \n",
      "A chronicled look, the criminal exploits, the many other drug kingpins, a drug deal, a brilliant but highly unstable young cyber-security engineer, a key figure, a complex game, the corrupt corporation, A bipolar CIA operative, a terrorist attack, The Baltimore drug scene, a teenage girl, the dutiful servant, \n",
      "An anthology series, a murderous past, an insane asylum, a witch coven, a freak show circus, a haunted hotel, a possessed farmhouse, a slasher summer camp, a bleak beach town, The continuing misadventures, a war-torn world, a young boy, a dangerous mystic quest, a decade old crime, the NYPD's 99th Precinct, an outlaw motorcycle club, The mercurial villain, a new series, the late 1970s, A financial advisor, the Missouri Ozarks, a drug boss, a renegade crew, a small spacecraft, the unknown parts, A hedonistic jingle writer's free-wheeling life, an abrupt halt, A teenage boy, a sex therapist mother, a high school classmate, an underground sex therapy clinic, A suspended lawyer, a community college, an eccentric staff, the unreal world, the early relationship, a young FBI criminal profiler, The absurd antics, an Indiana town's public officials, a nuclear war, a spaceship housing humanity's lone survivors, a strange new supernatural world, the mysterious Bill Compton, a southern Louisiana gentleman, a devastating event, A new FBI profiler, a mysterious criminal, An F.B.I. agent, an institutionalized scientist, a brewing storm, the firm's most mysterious but extremely talented ad executives, A scrappy, feisty, fiercely loyal Chicago family, A young woman, a troubled past, a small town, an Irish pub, a bad break-up, an offbeat young woman, an apartment loft, a dystopian future, a fundamentalist theocratic dictatorship, the Strategic Homeland Intervention, the tragic end, a private investigator, the British aristocratic Crawley family, the early twentieth century, An idiosyncratic FBI agent, a young woman, the even more idiosyncratic town, the political rivalries, the second half, the twentieth century, the F.B.I. Behavioral Analysis Unit, an elite group, the nation's most dangerous serial killers, The apparently perfect lives, a prestigious elementary school, a single mother, An Atlantic City politician, the Prohibition era, the California Bureau, the cool and moody new girl, a road trip, a struggling English Premier League football team, An ex-CIA agent, a wealthy programmer, a surveillance AI, the civilians' roles, the Upper East Side, the ruthless blogger, the last days, the Roman Republic, the vapid terrain, a close circle, \n",
      "A comedy, a middle-aged Daniel LaRusso, an anonymous foe, the 12 colonies, the aged Galactica, a small civilian fleet, the fabled 13th colony, a new body, a mind-bending murder, a serial killer, an NYPD homicide investigation team, the world's order, An English combat nurse, a back seat, The comedic misadventures, a rag-tag team, a large corporation, a hotheaded yuppie, a single punch, a twisted murder plot, the 24th century, a vast plot, the Solar System's fragile state, the harsh realities, a glee club, a passionate Spanish teacher, a Silicon Valley engineer, \n",
      "A young woman, the hit television show, An average high school student, a werewolf bite, the Naval Criminal Investigative Service, A high school mathlete, the troubled waters, A comedy series, the award-winning play, a young woman, a recent tragedy, a twenty-something computer geek, a near-genius murder detective, the dangerous violence, \n",
      "A streetwise, a dysfunctional family, an independent funeral home, both the government, \n",
      "A heartwarming and emotional story, a unique set, A white-collar criminal, an art and securities thief, A gifted young teen, a sabotaged experiment, A young man, a mystical force, the Iron Fist, \n",
      "A Walking Dead spinoff, the undead apocalypse, the mysterious suicide, the powerful Dragonballs, the saiyan warrior, the planet earth, A young Clark Kent, the typical troubles, The Roy family, the biggest media and entertainment company, the late 1990s, the sketch comedy show, an arrogant new boss, a crazy new star, a successful television show, An emotionally troubled young woman, a thirtysomething single mother, the world's leading deception expert, A homicide detective, the evil forces, both the physical and spiritual worlds, the USS Discovery, a new generation, the U.S.S. Enterprise-D, the powerful Bridgerton family, a loud, hyperactive, adolescent ninja, a new team, \n",
      "An adult animated series, the Skybound/Image comic, the most powerful superhero, the Hutt's old turf, a dangerous field assignment, a dangerous gambit, a security operative, A documentary film crew follow staff, A modern take, a young boy, a small coastal town, a media frenzy, A police investigation, a grieving family, a Seattle mayoral campaign, a submerged car, A streetwise hustler, a compelling conspiracy, a suburban mother, A ranching family, An invisible and mysterious force field, a small actual town, The trapped townspeople, the \"dome, A contemporary prequel, \n",
      "A show, the late 1800s, a rag-tag team, a pay check, the local beggar, Having gone missing seven years ago, the previously blind Prairie returns, all the wrongs, A seemingly cold but very passionate policewoman, a seemingly passionate father, a cold serial killer, The only thing, the Special Victims Unit, a specially trained squad, The Dark Knight, a dystopian America, a young woman, a mysterious film, the totalitarian regimes, a murdered sheriff, the small town, the poor, rural coal mining towns, \n",
      "A series, the daily activities, an unusual prison facility, an alien planet, the Robinson family, the enigmatic Gravity Falls, an unlikely friendship, a successful business, the Cold War, the average American couple, A novice sleuth, a talking sea sponge, a fast food restaurant, a boating school, an underwater pineapple, An inside look, the unique challenges, the Marvel Cinematic Universe, An anthology series, the global human population, a small New York community, the unexplained nature, a 10-year period, a grisly new crime, a mischievous adolescent ninja, the village's leader, a high fantasy world, a dangerous, world-spanning journey, the book series, A secret military team, the recently discovered Stargates, the Axe Capital throne, all the players, the witch world, the human world, the Archie comic, A 12-year-old boy, a remote future, a troubled young man, a strange encounter, an alien attack, A low-level Cabinet member, the United States, a catastrophic attack, a young surgeon, the surgical unit, a prestigious hospital, A troubled youth, a close-knit group, the wealthy, upper-class neighborhood, A brilliant and charismatic, yet psychotic serial killer communicates, a professional \"fixer, The Suicide Squad, the Grand Army, the droid army, a mysterious man, A young American woman, a marketing firm, an American perspective, a permanent global blackout, a tyrannical militia, the former United States, an ordinary family, a second chance, the autism spectrum, an elite team, A cynical young woman, the Charmed Ones, A working man, the National Investigation Agency, a radio psychiatrist, a good life, a pretty wife, a big television, the 23rd Century, the U.S.S. Enterprise, the United Federation, the Strategic Scientific Reserve, the Guadalajara Cartel, an American DEA agent, a remarkable manner, the brand new adventures, the legendary sorcerer, a young man, just a servant, the royal court, a great king, A mysterious viral outbreak, an ancient and evil strain, a dirty Los Angeles Police Department cop, the basketball court, a divorced comedian, an unspeakable crime, an extraordinary power, a dark turn, a controversial animal park boss, a young artist, a good wife, a former state's attorney, a very humiliating sex and corruption scandal, a law firm, the three Locke siblings, A dramatic series, a supernatural event, a brilliant former San Francisco detective, a private consultant, an obsessive-compulsive disorder, the U.S. government, the West Wing, the White House, a mysterious planet, The original surreal sketch comedy showcase, the Monty Python troupe, a powerful friendship, a tightly wound widow, a free spirit, a shocking secret, The personal and professional life, a 30-year-old actor, an eleven-year-old Antichrist, a doom-saying witch, A former White House Communications Director, the only ones, the toughest mysteries, the affluent town, a single hematologist, a dystopian future, the human race, a world replete, the famed explorer's adventures, the last thirty years, the Evil Dead, a Deadite plague, \n",
      "A comedy, a doomsday cult, The vampire Angel, The comical everyday life, An exploratory ship, the far side, a Starfleet ship, A medical resident, An average twenty-eight-year-old man, the full extent, An international team, a Stargate network, the Pegasus Galaxy, a new, powerful enemy, a quaint northwestern town, a dark turn, the rap scene, the Dillon Panthers, the nation's best high school football teams, An L.A.P.D. homicide detective, a thirteen-year-old boy, a serial killer, a virtual world, A young girl, a sixth branch, the armed services, The Space Force, The Next Generation, the next chapter, the liberated planet, the Federation space station, a stable wormhole, the far side, the dark world, A vampire hunter, a besieged city, A special task force, the FBI investigates, a short vision, A hit man, the Midwest moves, the city's theatre arts scene, two and a half centuries, the founding fathers, the Quantico base, a sleeper terrorist, the-radar, the computer network, a folk-rock band, the Four Lands, a mysterious fire, the three Baudelaire children, A human detective, a fairy rekindle, a Victorian fantasy world, an unimaginable monster, a young warrior, a young peculiar boy, the Dragon Balls, a book shop, A widowed broadcaster, a naval destroyer, a new existence, the earth's population, the human race, a university student, an evil organization, an FBI profiler, the terrorist Ted Kaczynski, the Miami-Dade, a burned-out major league ballplayer, A 200-year-old man, the New York City Morgue, A pastry chef, a cynical private investigator, a lovesick waitress, a useless agent, A small town, a mushroom cloud, The townspeople struggle, a tropical resort, An extraterrestrial race, a teenage girl, The dark and twisted trials, A superhero-loving boy, a prestigious hero academy, a controversial police anti-corruption unit, A Secret Service agent, the bucolic town, a New York City apartment, the 21st century, a personal and professional level, the only apartment, the Boston bar \"Cheers, a child genius, The Big Bang Theory, the United States, The Naval Criminal Investigation Service's Office, the undercover work, A U.S. Marshal, a remote, cozy little Northwestern town, the best minds, a serial killer, the late 19th century, the gathering forces, An eccentric genius, an international network, the last line, the complicated threats, the modern world, a big box store, A complex saga, the Galactic Empire, A weekly documentary, a leading psychiatric hospital, a growing darkness, a new assignment, half the practice, the United Earth ship Enterprise, the early years, the Earth-Romulan War, a human family, the third planet, The Civil War, the Union soldiers, a frozen wasteland, A straight-laced propane salesman, the wacky antics, A rogue assassin, the secret organization, the fifteenth century, A single-camera comedy, a young orphan girl, the late 19th century, the black sheep, the big score, the enigmatic Matthew Clairmont, an Ancient spaceship billions, a not-so-distant future, an android partner team, A commercial airliner, a deeper mystery, an international spy, an idealistic mad scientist, a secretive academy, that the magic, A futuristic laboratory, the temporary identities, a post-apocalyptic world, The daily mishaps, a married woman, the treacherous world, the French court, \n",
      "A famous guest host stars, An ensemble comedy, a fantasy football league, the Dutton family, a journey west, the Great Plains, the last bastion, the professional and personal lives, the early part, the twentieth century, a boy genius, A young, devout Catholic woman, the last twenty years, an already strained relationship, a parallel dimension, a survival game, \n",
      "A comedy news show, A disgraced lawyer, now an ambulance chaser, the Tudor court, a grisly fate, a bizarre graphic novel, a merciless organization, 'The Network, a spin-off, the long-running David E. Kelley series, the legal firm, A mighty warrior, a young boy, a ruthless post-apocalyptic America, A young woman, the dead resolve unfinished business, the most formidable heroes, the most powerful team, a wealthy New York night club owner, the city's elite, a double life, a drug kingpin, the personal and professional lives, a wrestling organization, a single day, the global community, The complicated life, a modern-day first generation Indian American teenage girl, A struggling novelist, a young waitress, an extramarital relationship, the Great Depression, an Oklahoma farm boy, a charismatic minister, a proxy war, \n",
      "A Kansas family relocates, the infamous social drama, \n",
      "An unpopular 15-year-old gains, the student body, a suicide attempt, the series intertwines characters, the fictional town, a time traveler, the post-apocalyptic future, a deadly plague, the human race, the irresistible and dynamic Georgia Miller, A reckless flight attendant, an alcoholism problem, the wrong hotel, the wrong bed, a dead man, an organized crime family, a different infamous or mysterious real life historical tragedy, the Regency era, the cutthroat world, The daily trials, \"The Tool Man\" Taylor, a television show host, The offbeat adventures, a cowardly dog, the regular cast, the wrong side, a treasure map, a long buried secret, the popular 1990s sitcom, the everyday life, an American working-class family, a cosmetics saleswoman, the three children, a rich English widower, a near future, a CIA officer, a global high-stakes mission, a divine entity, a deceptive con artist, a depressed man, a full grown man, a dog suit, a good friend, \n",
      "A series, a toilet seat, a young temp clerk, a grim reaper, \n",
      "An astronaut, the dystopian 27th century, a deserted spaceship, a female android, An unlikely trio, the Marvel Comics, a trailer park, a dangerous cult, at least the city, a few other gross things, the Family Guy, a small coastal town, the Torchwood Institute, a secret organization, the British Crown, The daily surreal adventures, a blue jay and raccoon duo, the local park, A serialized anthology series, a masked serial killer, A semi-anthology series, a serial killer, a teenage pop star, A brave and clever ragtag starship crew, the evil Empire, the Jedi Knights, A high school, a zombie virus outbreak, the small Pennsylvania town, the darkest evils, the peaceful and quiet part, all the prisoners, the present day, a secret agency, A young African-American travels, a parallel present, a highly-developed robotic servant, a real human, A hip-hop mogul, the Justice League, an awkward geek, a popular musician, the big issues, the United States, a ten year old boy, the most outrageous dares, An aging actor, an acting coach, A royal woman, the 18th century, the personal and professional life, a secret Agent, a sixteen-year-old high school student, the intertwined lives, the Middle Ages, the Black Adder, a Colorado rancher returns, a semi-pro football career, the family business, the coastal town, a dormant curse, the town's black sheep, the troubles' deadly effects, An injured hitman, a perky blue flying unicorn, A slightly unhinged cop, a veteran detective, a low stress level, A live-action adaptation, a New York party girl, a single parent, a one-night stand, The first generation, nearly a century, an epic drama, a troubled young Jewish man, a secret group, a clandestine war, the Fourth Reich, an extraordinary young girl, the relentless pursuit, an off-book CIA agent, \n",
      "A young African-American teen attempts, usually a murder, the police investigation, the-wall, exactly the same name, A ragtag crew, the galaxy's most dangerous criminals, the right price, A beautiful detective, the secret government organization, a mechanically charged beast, the sexual revolution, a distant part, an Earth astronaut, a fugitive alien starship crew, the Chicago Police Department, the uniformed cops, the Intelligence Unit, the zombie virus, the United States, the only known survivor, A television show, a macho everyman, the FIA Formula One World Championship, the Murphy family, a skilled swordsman, a mercenary group, 'The Band, the charismatic Griffith, the royal court, the Tipton Hotel, a lounge singer, A wildly talented high school girl soccer team, the (un)lucky survivors, a plane crash, the Canadian wilderness, a dumb blond egomaniac, a mysterious alien invasion, a new world order, \n",
      "A conspiracy thriller, a highly-decorated veteran, A new medical director, A con man, a vicious gangster, a Tv series, a crazy person, a wise man, a 12-year-old pregnant girl, a freezing lake, a brave detective, a high-risk mission, an alien artifact, A close-knit group, the mysterious murder, a son's search, a momentous fight, The cartoon misadventures, A crash-landed alien, a small-town Colorado doctor, the moral dilemma, the last human, the mining ship, a fresh start, a remote Northern California town, the Braverman family tree, the dedicated and unflappable sheriff, a life-altering incident, just a walking midlife crisis, A newly sober single mom, A former police officer, a bright green van, a regular teenage function, A lone crimefighter, a virtually indestructible and artificially intelligent supercar, A married father, The everyday life, a fourth-grader, a nameless city, a multi-racial boarding house, a motley assortment, the classic Looney Tunes, A well-meaning, a private detective, The Russo family, an ordinary family, an average restaurant, the next family wizard, a Southern California family, the personal and professional life, a lab project, a messenger service, the post-apocalyptic Pacific Northwest, a loyal nursing home care assistant, only the good, A Philadelphia couple, an unspeakable tragedy, a mysterious force, the big city, the dangerous scenarios, the 80s technological revolution, The globe-trotting treasure-hunting money-making adventures, A veteran Detective Chief Inspector, the regional community, A young Ob/Gyn doctor, a small office, a secretive unit, \n",
      "A comedy panel game, the New York Times' column, the human connection, the high-pressure experiences, the first responders, the most frightening, shocking and heart-stopping situations, an anger management therapist, an OCD teen daughter, a sex buddy/therapist, the mid 23rd century, the Earth Alliance space station, a major focal point, the smallest and mundane events, the same time, A young man, a normal personal life, a supernatural being, a new business venture, a new love, a car accident, A free-spirited yoga instructor, a conservative lawyer, the first date, the Metropolitan Police, the murder squad, A genius mouse, a government experiment, a regular basis, An existential comedy, a new treatment, a better person, a new and improved version, A true-crime satire, a costly high school prank, an alternative version, the Soviet Union, the United States, the space race, a global disaster, an overnight flight, the sun's rays, a culture clash, A law school graduate, a successful high-stakes litigator, The personal exploits, a 16-year-old girl, a potentially life-or-death situation, a strange disease, a secluded international research facility, a world-famous televangelist family, a long tradition, A teenage sorceress, a young Arthur, a powerful and ancient sword, a formerly institutionalized teen savant, the blended Kardashian-Jenner family, A New York mobster, the challenging life, a CIA operative, a twelve-year-old boy, a blue cat, an orphaned teen, the chosen Halo Bearer, a secret sect, a science fiction drama, the Norman King William, The world's most famous superhero and comic books' most famous journalist, the dark, early days, a zombie apocalypse, a tribrid daughter, a Vampire/Werewolf hybrid, the Deputy Mayor, A desperate banker, a Haitian-American gang lord, a Cuban-American hacker, the American dream - organized crime, a demonic presence, a foster home, the New York, the late 80s, the gay and trans community, the raging AIDS crisis, the country's reigning drug smuggler, the early 1980s, the turbulent power struggles, the sudden power vacuum, a foster home, a lesbian couple, a Los Angeles beach, the top adventures, a daily basis, the teen residents, a traditional life, ... a dream, the Montecito Resort, A brilliant neurosurgeon, a psychopathic former patient, The Winslow family, a college student, a secret order, a high schooler, an elderly Bruce Wayne, a harsh, futuristic Gotham, a recent widow, A disgraced, dissatisfied civil lawyer-turned-beauty pageant coach, a vengeful, bullied teenager, The Philadelphia homicide squad's lone female detective, A high school cheerleader, the typical challenges, a New York City hospital, The 'Bad Batch, an ever-changing galaxy, the immediate aftermath, the Clone Wars, The early life, the tender age, a gruesome series, the Black Star Dragon Balls, A hapless UN employee, a parallel dimension, a cold war, a top spy, a small, close-knit group, a government conspiracy, the Los Angeles Police Department, the final battle, A new animated series, an amoral science-based company, the mean streets, the same name, a mortal enemy, a band leader, the funniest predicaments, A spin-off, the medical drama, a new firm, the Galactic Republic's last major war, the popular vice principal, a normal life, The bizarre escapades, an Overeaters' Anonymous meeting, a large celebrating crowd, the Priority Homicide Division, an unorthodox style, the city's toughest, most sensitive cases, The Hennessy clan, the family patriarch, the complicated reality, the even more complicated reality, a daily basis, An isolated community, the NYPD's Major Case Squad, the criminal's point, a peaceful planet, a startling breakthrough, a small café, \n",
      "A groundbreaking 26-part documentary series, the deadliest conflict, a Hawaii based private investigator, a predominantly white Ivy League college, a long distance relationship, A crusading school principal, the original African-American electrical superhero, \n",
      "A charismatic fisherman, A troubled woman, A gifted accountant, A smart and cynical girl, a proud outsider, A Taiwanese family, an alien species, the Tong Wars, the late 1800s, a martial arts prodigy, a hatchet man, the most powerful tong, a mysterious colleague, an eerie mist rolls, a small town, the mysterious mist, a half hour comedic drama, A brash new maestro Rodrigo, the New York Symphony, A young scientist searches, A vampire lands, a private investigator, a mortal woman, the boring geek, the not-too-distant future, a remote location, The lone survivor, a million dollars, a vaudeville show, a famous celebrity, a deadly swamp-borne virus, the dark, terrifying mysteries, a bounty hunter, a thirteen-month-long solo space mission, the-scenes, a fictional sketch-comedy television show, the horrifying secret, the Skeksis' power, a performing arts high school, An anthology series, the mysterious Geist Group, an unconventional wellness company, the Homecoming Initiative, the gruesome E.C. comic books, the legendary Crypt Keeper, a sinister ghoul, The city's most highly skilled medical team, a burning romance, the new king, the late king's son, the ambitious desires, An American astronaut, a dangerous mission, an international space crew, the perilous journey, a rebellious young soldier, the unlikely savior, A reality-based look, a dysfunctional family, a family's adult siblings, the elite Navy SEALs, the most dangerous, high-stakes missions, the United States, The zany adventures, the modern world, \n",
      "A New York music executive, the 1970s hustles, the city's diverse music scene, a married couple, The ill-tempered Grim Reaper, the life-long companions, a single Harley Quinn, a psychotic Chihuahua, a dimwitted Manx cat, The comic misadventures, a tidy, refined Cat, An unassuming American family, a turbulent Middle Eastern nation, the Ingalls family, the nineteenth century, a single mother, A family man, a predominantly white, upper-middle-class neighborhood, A motley group, A countryside boy, a seemingly dangerous group, An L.A. family, a dramatic admission, A political drama, A ragtag group, the late 1970s, the only thing, a musical career, a second-hand shop, a contemporary take, the classic story, The high-profile murder trial, the evil witch, the mysterious Digital World, the entire group, a bloody interplanetary class war, a fun loving trio, A former high school sports legend, An MIT grad student, a tech superstar, a low-level Pentagon official, a staggering discovery, An anthology series, the same house, the United States, the most treacherous political landscape, a Greek interpreter, the Norwood builder, a resident patient, the red-headed league, The Caped Crusader, \n",
      "The confronting look, the prison system, A U.S. sub, a nuke launch, a small island, the volleyball championship's star player Shouyou, a short boy, the small giant, A Utah polygamist, the Salt Lake City area, a public scandal, a singing contest, An epic tale, a personal journey, an Anatolian archaeological site, a locally born and bred S.W.A.T. sergeant, A Long Island farmer, an unlikely group, a public housing estate, an unlikely bond, the elfin assassin, an epic quest, The Duncan family, the surprise birth, the Arctic Circle, the safest towns, a violent crime, A skeptical female clinical psychologist, a blue-collar contractor, a scientific explanation, the most infamous outlaw, the planet Gunsmoke, a 60 billion double dollar price, a secret mission, a human child, an ordinary man, an eccentric neuropsychiatrist, the federal government, a true crime story, an epic tale, a successful video game design company, An unfairly discredited but brilliant diagnostic surgeon, a concierge doctor, a small town, a car accident, a family member, a police detective, merely a dream, The very meaning, the word \"humanity\" changes, the modern world, a darker side, an Ancient Egyptian Puzzle, a dark and powerful alter ego, a psychopathic killer, a stolen Mercedes, a recently retired detective, a futuristic family, A bumbling bionic police inspector, the real investigative work, a clandestine organization, the U.S. government, the magical Elements, \n",
      "A sketch-comedy series, a live studio audience, A young boy, a small town, a half-Irish/half Cree Native-Canadian outlaw, the Hudson's Bay Company's monopoly, the fur trade, a remote town, a powerful storm, A 15-year-old girl, The wacky misadventures, an Australian wallaby, a tight-knit group, A Texas Ranger, the infamous Gecko brothers, a desert bar, a vampire conspiracy, a failed television presenter, an epic 26th-century showdown, the video game, A 20-something bachelor bartender, an unlikely parent, a baby girl, an unbreakable bond, the best criminal psychologists, An irreverent sportscaster, a support group, the extremely varied members, \n",
      "A glimpse, the outrageous lives, a global women's magazine, the last six months, the new landscape, the most glamorous way, the special FBI Missing Persons Squad, \n",
      "An irreverent look, A UK police DI, the final days, the Knights Templar, the 14th century, A teenage girl, the near future, A young woman, a choice job, a law firm, the unlikely locale, The wild misadventures, a nearly constant haze, A vapid aspiring model, a car crash, an intelligent, overweight lawyer, \n",
      "A high-tech intelligence operative, a super-computer microchip, an elite government cyber-security agency, A suburban mother, a fantasy-charged trip, a collision course, the bad news, the ninja world, a criminal organization, an evil spirit, The mysterious disappearance, a Scottish fishing trawler, a Trident nuclear submarine, the Navy and British security services, \n",
      "A comedy series, a large, disused hospital, a dark mentorship, a legendary Las Vegas comedian, a serial killer, the Texas-Chihuahua border, The daily adventures, an adolescent girl, The McLusky family, the only thriving industry, a business trip, a young boy, a prison officer, the most dangerous inmates, an impossible choice, the ultimate puppet master, the accused tick, a rich couple, a foster kid, a family scandal, a local politician, the family's male nanny, a modern world, The only humans, the Nirbhaya case, the Delhi Police investigation, A young man, The Cunningham family, the hit Disney Channel series, The Suite Life, the SS Tipton, \n",
      "A political family drama, the early fifteenth century, a typical kid, a mysterious alien device, The most powerful man, the evil forces, A boy genius, The life stories, a down-and-out defense attorney, the city's people, the parallel lives, a high school A/V club, the drama club, \"The Loop, the U.S. Navy's Judge Advocate General's office, The daily adventures, a famous children's television icon, the worst responders, a Harvard Lampoon alumnus, A unique bodyguard, A Black family, an all-white Los Angeles neighborhood, the human world, the werewolf world, the only female, \n",
      "A cat-and-mouse drama, the intense mental conflict, a police interview suite, the 203 apartments Drake, only the owners, a desperate attempt, a mounting bar tab, the 8th century, the awkward experiences, a modern-day African-American woman, The six episodes, the very successful \"Naked Gun\" film franchise, the young reporter, A cyclical competition, the modeling world, an NCIS team, The Big Easy, a super villain, a strange blue superhero, the Tonight Show, a musical or comedic guest perform, A neurotic mid-20s suburbanite, the greatest rappers, A retired MMA fighter, a terrorist act, the same time, a new fascinating world, an epic romance, a human girl, an alien boy, a suburban high school, an internment camp, a dementia disorder, the deepest mysteries, an unlikely businesswoman, the true story, a new relationship, a car accident, \n",
      "A comedy, the most exciting period, a Toronto police tactical unit, the first place, a rapper-wannabe, an ambitious Broadway, \n",
      "A wide-eyed young scion, a conservative family embarks, the wealthy neighboring clan, A whirlwind holiday romance, the most stupid things, a Dragon Knight, a Korean-Canadian family, a convenience store, the tragic and humorous story, a very troubled young girl, a psychiatric hospital, a disillusioned teen, a storied high school, a talk show, a bizarre environment, sometimes the victim, a blissfully macabre but extremely loving family, the challenging life, a police officer, the 15th Division, a malfunctioning multiverse simulator, the greatest experiences, a demonic army, a Boston apartment, a pizza place, A rookie FBI agent, a former legend FBI agent, a new tech genius, a new kind, The further and darker adventures, a new Robin, a closer association, the previous Robin, A young man, a Saturday afternoon trip, an adrift young woman's conception, the Great State, the-top, the world's most successful death metal band, a research vessel, a missing TV explorer, the close knit island community, the mysterious death, a famous DJ, a typical American family, a rough Manchester estate, the Justice Society, a pawn shop, the Las Vegas strip, an Uber Wealthy - High Society Gujarati family, a middle class Delhi background, the early days, the crack cocaine epidemic, A newly graduated doctor, an eccentric Alaskan town, A private detective teams, a kidnapping case, The untold story, An ordinary boy, a magic amulet, the secret world, \n",
      "A Saturday morning series, the most popular classic cartoons, the Looney Tunes catalogue, A university graduate, the city morgue, the same day, a post-Jax Teller world, a former golden boy, the Mayan MC charter, the California-Mexico border, A hard-living aunt, the greatest palace, A sci-fi anthology series, the UK's domestic intelligence organization, A bumbling superhero battles, the tragic death, The two brothers, a plumbing company, a vintage Chucky doll, a suburban yard sale, an idyllic American town, the town's hypocrisies, the inner workings, the New York office, the Federal Bureau, an altered United States, An Iraq war vet, a brain injury, a major university, the first woman, the dizzying demands, a failing English department, A New York City grad student, the same Cuban-American family, the same house, a newly divorced former military mother, A specially gifted man, a secret testing facility, A snobbish housewife, the social ladder, the constant chagrin, An updated iteration, the classic Looney Tunes characters, A female sleuth, the back lanes, the late 1920s, the Roman Army, the Celtic heart, the early 20th century, a young doctor, a small Russian village, the Russian Revolution, the local hospital, a new ranger, A well-off young tech entrepreneur, a feisty young food blogger, the real-life story, the flamboyant and visionary American founder, a fashion company, the greatest city, A young woman, the innermost thoughts, the gritty South Central Los Angeles, The troubled crew, a space cruise ship, An anthology series, The last son, the Twelve Colonies, the last major fighter carrier, a makeshift fugitive fleet, a desperate search, the legendary planet Earth, the formative years, Dwayne 'The Rock' Johnson, The show centers, A multi-generational saga, a private boarding school, the first time, A United States astronaut, a female genie, the criminal underworld, the modern age, a socially challenged doctor, the picturesque village, \n",
      "A musical comedy adventure, a childish king, The workplace sitcom, the office politics, An updated version, the classic anthology series, A Texan teen moves, a high-profile couple's four children, a gruesome murder, An edgy one night stand, the grisly crime, the world's most renowned international chefs, a single chef, an FBI agent, the world's best anime creators, the titular character, a single mom, a Houston suburb, The support crew, the U.S.S. Cerritos, the Justice League animated series, the original members, the DC comics, The Pew News team, A foul-mouthed nerd, A family comedy, the separate stories, \n",
      "A television show, a soul-searching Swedish cop, The crazy and sometimes surreal comedic adventures, the home-front, the south coast, the retired detective, an MI5 agent, The wacky and sometimes surreal adventures, A high-octane conspiracy series, a passenger plane, the Atlantic Ocean, A suburban mother, the monstrous invaders, A relationship forms, a gifted young girl, the evil elements, an uncharted island, a torrential storm, a mysterious island, the elusive Sherlock Holmes, The Jungle Book, a 1930s Pacific Islands bush pilot, The first manned mission, the red planet, a single parent]\n",
      "[work together in, is sent to, equally conniving wife, can be indulged, be indulged without, often prove more, is lost at, mysteriously lead back, lead back one, being struck by, 's been given, has been turned, been turned by, is suddenly torn, suddenly torn between, better understand humanity, is sentenced to, being involved in, are tasked with, must launder money, is haunted by, has destroyed civilization, must be prevented, has eluded capture, speaking only to, is transfixed by, is drawn to, vigilante known as, now grown apart, is always watching, tag along with, are suddenly linked, suddenly linked mentally, being hunted by, is mysteriously swept, mysteriously swept back, swept back in, 's washed up, get caught up, is sent by, must soon confront, is bestowed with, is altered into, must band together, is known for, must deal with, has gone before, constantly searches for, is acknowledged as, is brought in, is thrust into, become inextricably linked, now living in, is found in, is pulled into, looks just like, ever knew about, do well wins, specially trained squad, sexually related crimes, get struck by, is reassigned from, 're surrounded by, is hired by, recently discovered Stargates, was arrested for, must choose between, is recruited into, becomes embroiled in, returns home after, is hired by, 's taken over, are transported back, transported back 85, 's being thrown, being thrown in, moves back to, is relegated to, is accused of, secretly recruits Peggy, has soon become, are confounded over, 's been committed, is caught in, must now provide, now provide for, is murdered under, may be connected, be connected to, recently disavowed by, are tasked with, is found in, returns home to, is removed as, are born with, is based on, is rescued from, must cooperate with, is hired by, 've lived together, lived together for, gets used to, must venture into, simultaneously blacks out, gets caught up, is suspected of, is annoyed at, only wishes for, invariably end in, is literally left, literally left in, awaken deep within, may never get, never get out, already seen as, must quickly adapt, quickly adapt to, been tucked away, often go disastrously, is haunted by, is suddenly thrust, suddenly thrust into, are deployed in, are sent to, work together as, live together from, is offered help, should never trust, never trust vampires, suddenly reappears after, being missing for, Gently investigates cases, being recruited to, care deeply about, accidentally artificially inseminated, been romantically involved, romantically involved for, are transported to, being tracked down, known merely as, have been changed, being fought between, will nearly destroy, often feels more, is involved in, is inspired by, long buried secret, being fired from, emotionally challenged son, can predict events, is featured in, being hit on, 're doing there, reluctantly team up, live together in, being targeted by, being terrorized by, mysteriously disappear from, are tasked with, are battling for, is put under, ever caught on, long ago enjoyed, could trigger at, must deal with, is partnered with, must live up, is taken in, usually adapted from, mechanically charged beast, is made up, are being hunted, being hunted down, is deluded about, stay together in, is coerced back, coerced back into, was meticulously kept, meticulously kept at, is surprised by, are treated with, 's met with, been wrongly imprisoned, wrongly imprisoned for, increasingly dominated by, is fueled by, now works for, is used to, highly trained beings, are put in, are thrust into, returns home after, being involved in, get married on, get back home, 's been replaced, been replaced by, stay ahead of, are thrust into, must adapt to, now possesses superpowers, get back to, must constantly save, is later succeeded, later succeeded by, being torn apart, torn apart by, is placed in, will be watching, getting involved with, get back to, slowly heats up, begins again in, being pressured by, must start from, is obsessed with, run away from, will follow Carrie, also showing parts, live together on, gets back into, are turned upside, turned upside down, were switched at, is visited by, is recruited by, been surgically divided, surgically divided between, appears outside of, no longer wants, is offered 2, are stranded in, returns home to, loosely based on, is continually harassed, continually harassed by, is drawn into, highly trained soldiers, is unexpectedly sent, unexpectedly sent to, stay together at, be adopted by, is resurrected only, have taken over, are adjusting to, most sought after, is sent on, were just trying, get rid of, is based on, once terrorized by, are threatened by, recently retired detective, is sent by, often gets into, secretly run by, is now presenting, move forward after, 's now going, now going to, fired yet again, newly acquired superpowers, growing closer together, have been continuing, once made Pan, is transferred to, gets brought back, brought back to, must get back, get back in, has ever had, ever had sex, is searching for, 's joined by, living together as, are expressed by, writes all about, was adopted by, are viewed as, 's been suffering, been suffering from, previously consigned to, are granted one, is owned by, is planned in, are integrated into, were consigned to, have puzzled mankind, is loosely based, loosely based on, is going through, being dumped by, becomes embroiled in, have ever imagined, must adjust to, recently divorced father, is tagging along, is sent to, is trained by, suddenly explodes into, is forever changed, newly graduated doctor, must carve out, too immersed in, is thrown into, must live in, work together on, gets thrown off, are always dragged, always dragged down, is dragged along, is drawn into, socially challenged doctor, 's just one, are forever changed, always gets into, being hounded by, is stacked against, is being rocked, being rocked by, get together in, has been tasked, been tasked with, are stranded on, are manipulated into, is cast as]\n"
     ]
    }
   ],
   "source": [
    "from parts_of_speech import text_to_nlp, get_article_noun_phrases, get_verb_phrases"
   ]
  },
  {
   "cell_type": "code",
   "execution_count": 8,
   "id": "f42a4c74",
   "metadata": {},
   "outputs": [],
   "source": [
    "def get_genre():\n",
    "    genres = [\n",
    "            \"Action\",\n",
    "            \"Adventure\",\n",
    "            \"Animation\",\n",
    "            \"Biography\",\n",
    "            \"Comedy\",\n",
    "            \"Crime\",\n",
    "            \"Documentary\",\n",
    "            \"Drama\",\n",
    "            \"Family\",\n",
    "            \"Fantasy\",\n",
    "            \"History\",\n",
    "            \"Horror\",\n",
    "            \"Musical\",\n",
    "            \"Mystery\",\n",
    "            \"Romance\",\n",
    "            \"Sci-Fi\",\n",
    "            \"Sports\",\n",
    "            \"Thriller\",\n",
    "            \"War\",\n",
    "            \"Western\"\n",
    "    ]\n",
    "    return '-'.join(random.choices(genres, k=2))"
   ]
  },
  {
   "cell_type": "code",
   "execution_count": 9,
   "id": "9316ea6d",
   "metadata": {
    "scrolled": true
   },
   "outputs": [
    {
     "name": "stdout",
     "output_type": "stream",
     "text": [
      "Musical-Adventure\n"
     ]
    }
   ],
   "source": [
    "print(get_genre())"
   ]
  },
  {
   "cell_type": "code",
   "execution_count": 21,
   "id": "095d2330",
   "metadata": {},
   "outputs": [],
   "source": [
    "def generate_prompt(source):\n",
    "    nlp = text_to_nlp(source)\n",
    "    genre = get_genre()\n",
    "    noun_phrase1 = random.choice(get_article_noun_phrases(nlp))\n",
    "    noun_phrase2 = random.choice(get_article_noun_phrases(nlp))\n",
    "    verb_phrase = random.choice(get_verb_phrases(nlp))\n",
    "    prompt = 'This is a logline for a/n {g} movie about {n1}: {n2} {v}'.format(\n",
    "    g=genre, n1=noun_phrase1, n2=noun_phrase2, v=verb_phrase)\n",
    "    return str(prompt)"
   ]
  },
  {
   "cell_type": "code",
   "execution_count": 22,
   "id": "d38eeb4c",
   "metadata": {
    "scrolled": false
   },
   "outputs": [
    {
     "name": "stdout",
     "output_type": "stream",
     "text": [
      "This is a logline for a/n Fantasy-Fantasy movie about a fun loving trio: nearly a century is acknowledged as\n"
     ]
    }
   ],
   "source": [
    "print(generate_prompt('loglines.txt'))"
   ]
  }
 ],
 "metadata": {
  "kernelspec": {
   "display_name": "Python 3 (ipykernel)",
   "language": "python",
   "name": "python3"
  },
  "language_info": {
   "codemirror_mode": {
    "name": "ipython",
    "version": 3
   },
   "file_extension": ".py",
   "mimetype": "text/x-python",
   "name": "python",
   "nbconvert_exporter": "python",
   "pygments_lexer": "ipython3",
   "version": "3.9.7"
  }
 },
 "nbformat": 4,
 "nbformat_minor": 5
}
